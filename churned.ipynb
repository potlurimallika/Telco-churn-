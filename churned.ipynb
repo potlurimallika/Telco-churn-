{
 "cells": [
  {
   "cell_type": "code",
   "execution_count": 1,
   "id": "728c9422",
   "metadata": {},
   "outputs": [],
   "source": [
    "import pandas as pd\n",
    "import numpy as np\n",
    "from sklearn.model_selection import train_test_split\n",
    "from sklearn.preprocessing import StandardScaler, LabelEncoder\n",
    "from sklearn.ensemble import RandomForestClassifier\n",
    "from sklearn.metrics import roc_auc_score, roc_curve"
   ]
  },
  {
   "cell_type": "code",
   "execution_count": 2,
   "id": "5601099f",
   "metadata": {},
   "outputs": [],
   "source": [
    "# Load the data\n",
    "train_data = pd.read_csv('training.csv')\n",
    "test_data = pd.read_csv('validation.csv')\n"
   ]
  },
  {
   "cell_type": "code",
   "execution_count": 3,
   "id": "2a7bf8cd",
   "metadata": {},
   "outputs": [],
   "source": [
    "# Handle missing values for numeric columns\n",
    "numeric_cols = train_data.select_dtypes(include=[np.number]).columns\n",
    "train_data[numeric_cols] = train_data[numeric_cols].fillna(train_data[numeric_cols].mean())\n",
    "test_data[numeric_cols] = test_data[numeric_cols].fillna(test_data[numeric_cols].mean())"
   ]
  },
  {
   "cell_type": "code",
   "execution_count": 4,
   "id": "14842d58",
   "metadata": {},
   "outputs": [
    {
     "name": "stdout",
     "output_type": "stream",
     "text": [
      "Encode column: CUSTOMER_ID\n",
      "Encode column: COLLEGE\n",
      "Encode column: LESSTHAN600k\n",
      "Encode column: REPORTED_SATISFACTION\n",
      "Encode column: REPORTED_USAGE_LEVEL\n",
      "Encode column: CONSIDERING_CHANGE_OF_PLAN\n"
     ]
    }
   ],
   "source": [
    "# Encode categorical variables\n",
    "label_encoders = {}\n",
    "for column in train_data.select_dtypes(include=['object']).columns:\n",
    "    if column != 'CHURNED':\n",
    "        print(f\"Encode column: {column}\")\n",
    "        try:\n",
    "            le = LabelEncoder()\n",
    "            train_data[column] = le.fit_transform(train_data[column].astype(str))\n",
    "            # Save the encoder\n",
    "            label_encoders[column] = le\n",
    "        except Exception as e:\n",
    "            print(f\"Error in encode column {column}: {e}\")"
   ]
  },
  {
   "cell_type": "code",
   "execution_count": 5,
   "id": "272ede4c",
   "metadata": {},
   "outputs": [
    {
     "name": "stdout",
     "output_type": "stream",
     "text": [
      "Transform column: CUSTOMER_ID\n",
      "Transform column: COLLEGE\n",
      "Transform column: LESSTHAN600k\n",
      "Transform column: REPORTED_SATISFACTION\n",
      "Transform column: REPORTED_USAGE_LEVEL\n",
      "Transform column: CONSIDERING_CHANGE_OF_PLAN\n"
     ]
    }
   ],
   "source": [
    "# Transform the test set\n",
    "for column, le in label_encoders.items():\n",
    "    if column in test_data.columns:\n",
    "        print(f\"Transform column: {column}\")\n",
    "        try:\n",
    "            # Create a mapping for unseen labels\n",
    "            test_data[column] = test_data[column].apply(lambda x: '<unknown>' if x not in le.classes_ else x)\n",
    "            # Add '<unknown>' class to the encoder\n",
    "            le.classes_ = np.append(le.classes_, '<unknown>')\n",
    "            test_data[column] = le.transform(test_data[column].astype(str))\n",
    "        except Exception as e:\n",
    "            print(f\"Error in transformation column {column}: {e}\")"
   ]
  },
  {
   "cell_type": "code",
   "execution_count": 6,
   "id": "fc216759",
   "metadata": {},
   "outputs": [],
   "source": [
    "\n",
    "# Drop CUSTOMER_ID before training and testing\n",
    "X_train = train_data.drop(columns=['CHURNED', 'CUSTOMER_ID'])\n",
    "X_test = test_data.drop(columns=['CUSTOMER_ID'])\n",
    "y_train = train_data['CHURNED']"
   ]
  },
  {
   "cell_type": "code",
   "execution_count": 7,
   "id": "b6bcd576",
   "metadata": {},
   "outputs": [],
   "source": [
    "\n",
    "# Split the data into training and validation sets\n",
    "X_train, X_val, y_train, y_val = train_test_split(X_train, y_train, test_size=0.2, random_state=42)\n"
   ]
  },
  {
   "cell_type": "code",
   "execution_count": 8,
   "id": "0a3d0f76",
   "metadata": {},
   "outputs": [],
   "source": [
    "# Scale the features\n",
    "scaler = StandardScaler()\n",
    "X_train = scaler.fit_transform(X_train)\n",
    "X_val = scaler.transform(X_val)\n",
    "X_test = scaler.transform(X_test)\n"
   ]
  },
  {
   "cell_type": "code",
   "execution_count": 9,
   "id": "d862e5e5",
   "metadata": {},
   "outputs": [
    {
     "data": {
      "text/html": [
       "<style>#sk-container-id-1 {color: black;}#sk-container-id-1 pre{padding: 0;}#sk-container-id-1 div.sk-toggleable {background-color: white;}#sk-container-id-1 label.sk-toggleable__label {cursor: pointer;display: block;width: 100%;margin-bottom: 0;padding: 0.3em;box-sizing: border-box;text-align: center;}#sk-container-id-1 label.sk-toggleable__label-arrow:before {content: \"▸\";float: left;margin-right: 0.25em;color: #696969;}#sk-container-id-1 label.sk-toggleable__label-arrow:hover:before {color: black;}#sk-container-id-1 div.sk-estimator:hover label.sk-toggleable__label-arrow:before {color: black;}#sk-container-id-1 div.sk-toggleable__content {max-height: 0;max-width: 0;overflow: hidden;text-align: left;background-color: #f0f8ff;}#sk-container-id-1 div.sk-toggleable__content pre {margin: 0.2em;color: black;border-radius: 0.25em;background-color: #f0f8ff;}#sk-container-id-1 input.sk-toggleable__control:checked~div.sk-toggleable__content {max-height: 200px;max-width: 100%;overflow: auto;}#sk-container-id-1 input.sk-toggleable__control:checked~label.sk-toggleable__label-arrow:before {content: \"▾\";}#sk-container-id-1 div.sk-estimator input.sk-toggleable__control:checked~label.sk-toggleable__label {background-color: #d4ebff;}#sk-container-id-1 div.sk-label input.sk-toggleable__control:checked~label.sk-toggleable__label {background-color: #d4ebff;}#sk-container-id-1 input.sk-hidden--visually {border: 0;clip: rect(1px 1px 1px 1px);clip: rect(1px, 1px, 1px, 1px);height: 1px;margin: -1px;overflow: hidden;padding: 0;position: absolute;width: 1px;}#sk-container-id-1 div.sk-estimator {font-family: monospace;background-color: #f0f8ff;border: 1px dotted black;border-radius: 0.25em;box-sizing: border-box;margin-bottom: 0.5em;}#sk-container-id-1 div.sk-estimator:hover {background-color: #d4ebff;}#sk-container-id-1 div.sk-parallel-item::after {content: \"\";width: 100%;border-bottom: 1px solid gray;flex-grow: 1;}#sk-container-id-1 div.sk-label:hover label.sk-toggleable__label {background-color: #d4ebff;}#sk-container-id-1 div.sk-serial::before {content: \"\";position: absolute;border-left: 1px solid gray;box-sizing: border-box;top: 0;bottom: 0;left: 50%;z-index: 0;}#sk-container-id-1 div.sk-serial {display: flex;flex-direction: column;align-items: center;background-color: white;padding-right: 0.2em;padding-left: 0.2em;position: relative;}#sk-container-id-1 div.sk-item {position: relative;z-index: 1;}#sk-container-id-1 div.sk-parallel {display: flex;align-items: stretch;justify-content: center;background-color: white;position: relative;}#sk-container-id-1 div.sk-item::before, #sk-container-id-1 div.sk-parallel-item::before {content: \"\";position: absolute;border-left: 1px solid gray;box-sizing: border-box;top: 0;bottom: 0;left: 50%;z-index: -1;}#sk-container-id-1 div.sk-parallel-item {display: flex;flex-direction: column;z-index: 1;position: relative;background-color: white;}#sk-container-id-1 div.sk-parallel-item:first-child::after {align-self: flex-end;width: 50%;}#sk-container-id-1 div.sk-parallel-item:last-child::after {align-self: flex-start;width: 50%;}#sk-container-id-1 div.sk-parallel-item:only-child::after {width: 0;}#sk-container-id-1 div.sk-dashed-wrapped {border: 1px dashed gray;margin: 0 0.4em 0.5em 0.4em;box-sizing: border-box;padding-bottom: 0.4em;background-color: white;}#sk-container-id-1 div.sk-label label {font-family: monospace;font-weight: bold;display: inline-block;line-height: 1.2em;}#sk-container-id-1 div.sk-label-container {text-align: center;}#sk-container-id-1 div.sk-container {/* jupyter's `normalize.less` sets `[hidden] { display: none; }` but bootstrap.min.css set `[hidden] { display: none !important; }` so we also need the `!important` here to be able to override the default hidden behavior on the sphinx rendered scikit-learn.org. See: https://github.com/scikit-learn/scikit-learn/issues/21755 */display: inline-block !important;position: relative;}#sk-container-id-1 div.sk-text-repr-fallback {display: none;}</style><div id=\"sk-container-id-1\" class=\"sk-top-container\"><div class=\"sk-text-repr-fallback\"><pre>RandomForestClassifier(random_state=42)</pre><b>In a Jupyter environment, please rerun this cell to show the HTML representation or trust the notebook. <br />On GitHub, the HTML representation is unable to render, please try loading this page with nbviewer.org.</b></div><div class=\"sk-container\" hidden><div class=\"sk-item\"><div class=\"sk-estimator sk-toggleable\"><input class=\"sk-toggleable__control sk-hidden--visually\" id=\"sk-estimator-id-1\" type=\"checkbox\" checked><label for=\"sk-estimator-id-1\" class=\"sk-toggleable__label sk-toggleable__label-arrow\">RandomForestClassifier</label><div class=\"sk-toggleable__content\"><pre>RandomForestClassifier(random_state=42)</pre></div></div></div></div></div>"
      ],
      "text/plain": [
       "RandomForestClassifier(random_state=42)"
      ]
     },
     "execution_count": 9,
     "metadata": {},
     "output_type": "execute_result"
    }
   ],
   "source": [
    "# Train a Random Forest Classifier\n",
    "model = RandomForestClassifier(random_state=42)\n",
    "model.fit(X_train, y_train)\n"
   ]
  },
  {
   "cell_type": "code",
   "execution_count": 10,
   "id": "346157a5",
   "metadata": {},
   "outputs": [
    {
     "name": "stdout",
     "output_type": "stream",
     "text": [
      "ROC AUC Score: 0.8320454251637789\n"
     ]
    }
   ],
   "source": [
    "# Validate the model\n",
    "y_pred_proba = model.predict_proba(X_val)[:, 1]\n",
    "roc_auc = roc_auc_score(y_val, y_pred_proba)\n",
    "print(f\"ROC AUC Score: {roc_auc}\")"
   ]
  },
  {
   "cell_type": "code",
   "execution_count": 11,
   "id": "5ee3d7ee",
   "metadata": {},
   "outputs": [],
   "source": [
    "\n",
    "# Predict churn probabilities on the test set\n",
    "test_pred_proba = model.predict_proba(X_test)[:, 1]"
   ]
  },
  {
   "cell_type": "code",
   "execution_count": 12,
   "id": "c40aabbd",
   "metadata": {},
   "outputs": [],
   "source": [
    "# Create a DataFrame with customer IDs and their churn probabilities\n",
    "test_results = pd.DataFrame({\n",
    "    'CUSTOMER_ID': test_data['CUSTOMER_ID'],\n",
    "    'CHURN_PROBABILITY': test_pred_proba\n",
    "})"
   ]
  },
  {
   "cell_type": "code",
   "execution_count": 13,
   "id": "b5e84d0d",
   "metadata": {},
   "outputs": [],
   "source": [
    "# Define threshold for labeling churn (example: 0.5)\n",
    "threshold = 0.5\n",
    "test_results['CHURN_LABEL'] = test_results['CHURN_PROBABILITY'].apply(lambda x: 'LEAVE' if x >= threshold else 'STAY')"
   ]
  },
  {
   "cell_type": "code",
   "execution_count": 14,
   "id": "6f25003b",
   "metadata": {},
   "outputs": [],
   "source": [
    "# Placeholder for base profit, replace with actual data if available\n",
    "# Assuming 'Base_Profit' column in test_data represents the profit from each customer\n",
    "test_data['Base_Profit'] = np.random.uniform(50, 200, size=test_data.shape[0])  # Example values, replace accordingly"
   ]
  },
  {
   "cell_type": "code",
   "execution_count": 15,
   "id": "6ba96fd8",
   "metadata": {},
   "outputs": [],
   "source": [
    "# Calculate the optimal discount for each customer\n",
    "def calculate_optimal_discount(churn_probability, base_profit, contact_cost=10):\n",
    "    # Placeholder logic for discount calculation\n",
    "    discount = min(churn_probability * 50, base_profit / 2)  # Example: max discount is 50% of base profit\n",
    "    return discount\n",
    "\n",
    "test_results['DISCOUNT'] = test_results.apply(\n",
    "    lambda row: calculate_optimal_discount(row['CHURN_PROBABILITY'], test_data.loc[test_data['CUSTOMER_ID'] == row['CUSTOMER_ID'], 'Base_Profit'].values[0]),\n",
    "    axis=1\n",
    ")"
   ]
  },
  {
   "cell_type": "code",
   "execution_count": 16,
   "id": "64c31904",
   "metadata": {},
   "outputs": [],
   "source": [
    "# Define the strategy for contacting customers\n",
    "# Example: contact top 20% customers with the highest churn probability\n",
    "top_percent = 0.2\n",
    "num_customers_to_contact = int(len(test_results) * top_percent)\n",
    "test_results = test_results.sort_values(by='CHURN_PROBABILITY', ascending=False)\n",
    "test_results['CLIENT_TO_CONTACT'] = ['YES' if i < num_customers_to_contact else 'NO' for i in range(len(test_results))]\n"
   ]
  },
  {
   "cell_type": "code",
   "execution_count": 17,
   "id": "052af9fb",
   "metadata": {},
   "outputs": [
    {
     "name": "stdout",
     "output_type": "stream",
     "text": [
      "Results saved to test_results.csv\n"
     ]
    }
   ],
   "source": [
    "# Save the results to a CSV file\n",
    "test_results.to_csv('test.csv', index=False)\n",
    "\n",
    "print(\"Results saved to test_results.csv\")"
   ]
  },
  {
   "cell_type": "code",
   "execution_count": null,
   "id": "7f531283",
   "metadata": {},
   "outputs": [],
   "source": []
  }
 ],
 "metadata": {
  "kernelspec": {
   "display_name": "Python 3 (ipykernel)",
   "language": "python",
   "name": "python3"
  },
  "language_info": {
   "codemirror_mode": {
    "name": "ipython",
    "version": 3
   },
   "file_extension": ".py",
   "mimetype": "text/x-python",
   "name": "python",
   "nbconvert_exporter": "python",
   "pygments_lexer": "ipython3",
   "version": "3.9.0"
  }
 },
 "nbformat": 4,
 "nbformat_minor": 5
}
